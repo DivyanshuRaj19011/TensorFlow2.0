{
 "cells": [
  {
   "cell_type": "code",
   "execution_count": 1,
   "metadata": {
    "ExecuteTime": {
     "end_time": "2020-06-20T15:12:44.773533Z",
     "start_time": "2020-06-20T15:12:39.059376Z"
    },
    "colab": {},
    "colab_type": "code",
    "id": "2n6Y4DrxqG8Q"
   },
   "outputs": [],
   "source": [
    "import pandas as pd\n",
    "import numpy as np\n",
    "import matplotlib.pyplot as plt\n",
    "import tensorflow.compat.v2 as tf\n",
    "import tensorflow.compat.v2.feature_column as fc\n",
    "from IPython.display import clear_output\n",
    "from six.moves import urllib\n",
    "from sklearn.metrics import roc_curve\n",
    "\n",
    "clear_output()"
   ]
  },
  {
   "cell_type": "markdown",
   "metadata": {},
   "source": [
    "# Import Data files"
   ]
  },
  {
   "cell_type": "code",
   "execution_count": 2,
   "metadata": {
    "ExecuteTime": {
     "end_time": "2020-06-20T15:12:45.504205Z",
     "start_time": "2020-06-20T15:12:44.776500Z"
    },
    "colab": {
     "base_uri": "https://localhost:8080/",
     "height": 204
    },
    "colab_type": "code",
    "id": "Kd3mM3HwqrZy",
    "outputId": "5c40107f-d6c0-4758-8ea1-5312230ba877"
   },
   "outputs": [
    {
     "data": {
      "text/html": [
       "<div>\n",
       "<style scoped>\n",
       "    .dataframe tbody tr th:only-of-type {\n",
       "        vertical-align: middle;\n",
       "    }\n",
       "\n",
       "    .dataframe tbody tr th {\n",
       "        vertical-align: top;\n",
       "    }\n",
       "\n",
       "    .dataframe thead th {\n",
       "        text-align: right;\n",
       "    }\n",
       "</style>\n",
       "<table border=\"1\" class=\"dataframe\">\n",
       "  <thead>\n",
       "    <tr style=\"text-align: right;\">\n",
       "      <th></th>\n",
       "      <th>sex</th>\n",
       "      <th>age</th>\n",
       "      <th>n_siblings_spouses</th>\n",
       "      <th>parch</th>\n",
       "      <th>fare</th>\n",
       "      <th>class</th>\n",
       "      <th>deck</th>\n",
       "      <th>embark_town</th>\n",
       "      <th>alone</th>\n",
       "    </tr>\n",
       "  </thead>\n",
       "  <tbody>\n",
       "    <tr>\n",
       "      <th>0</th>\n",
       "      <td>male</td>\n",
       "      <td>22.0</td>\n",
       "      <td>1</td>\n",
       "      <td>0</td>\n",
       "      <td>7.2500</td>\n",
       "      <td>Third</td>\n",
       "      <td>unknown</td>\n",
       "      <td>Southampton</td>\n",
       "      <td>n</td>\n",
       "    </tr>\n",
       "    <tr>\n",
       "      <th>1</th>\n",
       "      <td>female</td>\n",
       "      <td>38.0</td>\n",
       "      <td>1</td>\n",
       "      <td>0</td>\n",
       "      <td>71.2833</td>\n",
       "      <td>First</td>\n",
       "      <td>C</td>\n",
       "      <td>Cherbourg</td>\n",
       "      <td>n</td>\n",
       "    </tr>\n",
       "    <tr>\n",
       "      <th>2</th>\n",
       "      <td>female</td>\n",
       "      <td>26.0</td>\n",
       "      <td>0</td>\n",
       "      <td>0</td>\n",
       "      <td>7.9250</td>\n",
       "      <td>Third</td>\n",
       "      <td>unknown</td>\n",
       "      <td>Southampton</td>\n",
       "      <td>y</td>\n",
       "    </tr>\n",
       "    <tr>\n",
       "      <th>3</th>\n",
       "      <td>female</td>\n",
       "      <td>35.0</td>\n",
       "      <td>1</td>\n",
       "      <td>0</td>\n",
       "      <td>53.1000</td>\n",
       "      <td>First</td>\n",
       "      <td>C</td>\n",
       "      <td>Southampton</td>\n",
       "      <td>n</td>\n",
       "    </tr>\n",
       "    <tr>\n",
       "      <th>4</th>\n",
       "      <td>male</td>\n",
       "      <td>28.0</td>\n",
       "      <td>0</td>\n",
       "      <td>0</td>\n",
       "      <td>8.4583</td>\n",
       "      <td>Third</td>\n",
       "      <td>unknown</td>\n",
       "      <td>Queenstown</td>\n",
       "      <td>y</td>\n",
       "    </tr>\n",
       "  </tbody>\n",
       "</table>\n",
       "</div>"
      ],
      "text/plain": [
       "      sex   age  n_siblings_spouses  parch     fare  class     deck  \\\n",
       "0    male  22.0                   1      0   7.2500  Third  unknown   \n",
       "1  female  38.0                   1      0  71.2833  First        C   \n",
       "2  female  26.0                   0      0   7.9250  Third  unknown   \n",
       "3  female  35.0                   1      0  53.1000  First        C   \n",
       "4    male  28.0                   0      0   8.4583  Third  unknown   \n",
       "\n",
       "   embark_town alone  \n",
       "0  Southampton     n  \n",
       "1    Cherbourg     n  \n",
       "2  Southampton     y  \n",
       "3  Southampton     n  \n",
       "4   Queenstown     y  "
      ]
     },
     "execution_count": 2,
     "metadata": {},
     "output_type": "execute_result"
    }
   ],
   "source": [
    "df_train = pd.read_csv(\"https://storage.googleapis.com/tf-datasets/titanic/train.csv\")\n",
    "df_eval = pd.read_csv(\"https://storage.googleapis.com/tf-datasets/titanic/eval.csv\")\n",
    "y_train = df_train.pop(\"survived\")\n",
    "y_eval = df_eval.pop(\"survived\")\n",
    "df_train.head()"
   ]
  },
  {
   "cell_type": "markdown",
   "metadata": {},
   "source": [
    "# Data Preparation\n",
    "\n",
    "A few steps are required before we train a DNN Classifier with Tensorflow. We need to prepare features to be included in the model. The estimator needs to have a list of features to train the model. Hence, the column's data requires to be converted into a tensor."
   ]
  },
  {
   "cell_type": "code",
   "execution_count": 3,
   "metadata": {
    "ExecuteTime": {
     "end_time": "2020-06-20T15:12:45.520169Z",
     "start_time": "2020-06-20T15:12:45.506167Z"
    },
    "colab": {},
    "colab_type": "code",
    "id": "MwkWjYV_vCVt"
   },
   "outputs": [],
   "source": [
    "columns = [column for column in df_train.columns]\n",
    "categorical_columns = [column for column in df_train.columns if df_train[column].dtype=='object']\n",
    "numerical_columns = list(set(columns)-set(categorical_columns))"
   ]
  },
  {
   "cell_type": "markdown",
   "metadata": {},
   "source": [
    "We use feature_column.categorical_column_with_vocabulary_list(key, vocabulary_list) when our inputs are in string or integer format, and we have an in-memory vocabulary mapping each value to an integer ID. By default, out-of-vocabulary values are ignored. \n",
    "\n",
    "This is because we cannot feed strings directly to a model. Instead, we must first map them to numeric values. The categorical vocabulary columns provide a way to represent strings as a one-hot vector. The vocabulary can be passed as a list using categorical_column_with_vocabulary_list, or loaded from a file using categorical_column_with_vocabulary_file.\n",
    "\n",
    "For input dictionary features, features[key] is either Tensor or SparseTensor. If Tensor, missing values can be represented by -1 for int and '' for string, which will be dropped by this feature column.\n",
    "\n",
    "Lastly, we also use feature_column.embedding_column since our inputs are sparse, but we want to convert them to a dense representation (e.g., to feed to a DNN)."
   ]
  },
  {
   "cell_type": "code",
   "execution_count": 4,
   "metadata": {
    "ExecuteTime": {
     "end_time": "2020-06-20T15:12:45.536195Z",
     "start_time": "2020-06-20T15:12:45.524170Z"
    },
    "colab": {},
    "colab_type": "code",
    "id": "A0smbbR7vCYr"
   },
   "outputs": [],
   "source": [
    "features = []\n",
    "for column in columns:\n",
    "    if column in categorical_columns:\n",
    "        vocabulary = df_train[column].unique()\n",
    "        features.append(fc.embedding_column(fc.categorical_column_with_vocabulary_list(column, vocabulary),dimension=len(vocabulary)))\n",
    "    else:\n",
    "        features.append(fc.numeric_column(column, dtype=tf.float32))"
   ]
  },
  {
   "cell_type": "markdown",
   "metadata": {},
   "source": [
    "We need a function that constructs the input data for evaluation. As per the TensorFlow2.0 api docs,  the evaluate function should construct and return one of the following: * A tf.data.Dataset object: Outputs of Dataset object must be a tuple (features, labels) with same constraints as below. * A tuple (features, labels): Where features is a tf.Tensor or a dictionary of string feature name to Tensor and labels is a Tensor or a dictionary of string label name to Tensor. Both features and labels are consumed by model_fn. They should satisfy the expectation of model_fn from inputs.\n",
    "\n",
    "Now, we will wrap the dataframes with tf.data. \n",
    "\n",
    "Below is a utility function that creates a tf.data.Dataset object from a Pandas Dataframe. It creates tensor slices of tuples of (features, labels) as required. This will enable us to use feature columns as a bridge to map from the columns in the Pandas dataframe to features used to train the model. If we were working with a very large CSV file (so large that it does not fit into memory), we would use tf.data to read it from disk directly. "
   ]
  },
  {
   "cell_type": "code",
   "execution_count": 5,
   "metadata": {
    "ExecuteTime": {
     "end_time": "2020-06-20T15:12:45.552179Z",
     "start_time": "2020-06-20T15:12:45.540174Z"
    },
    "colab": {},
    "colab_type": "code",
    "id": "raAkzd9xvCbb"
   },
   "outputs": [],
   "source": [
    "# A utility method to create a tf.data dataset from a Pandas Dataframe\n",
    "\n",
    "def transform_fn(df, label, epochs=10, shuffle=True, batch_size=32):\n",
    "    def transform():\n",
    "        batch_data = tf.data.Dataset.from_tensor_slices((dict(df), label))\n",
    "        if shuffle:\n",
    "            batch_data = batch_data.shuffle(123)\n",
    "        batch_data = batch_data.batch(batch_size).repeat(epochs)\n",
    "        return batch_data\n",
    "    return transform"
   ]
  },
  {
   "cell_type": "code",
   "execution_count": 6,
   "metadata": {
    "ExecuteTime": {
     "end_time": "2020-06-20T15:12:45.568228Z",
     "start_time": "2020-06-20T15:12:45.555167Z"
    },
    "colab": {},
    "colab_type": "code",
    "id": "2d3a05WXvCeA"
   },
   "outputs": [],
   "source": [
    "input_train_fn = transform_fn(df_train, y_train)\n",
    "input_eval_fn = transform_fn(df_eval, y_eval, epochs=1, shuffle=False)"
   ]
  },
  {
   "cell_type": "markdown",
   "metadata": {},
   "source": [
    "# Model creation"
   ]
  },
  {
   "cell_type": "markdown",
   "metadata": {},
   "source": [
    "Now, we train a DNN model to classify instances. feature_columns requires an iterable containing all the feature columns used by the model. It also needs an argument hidden_units, which is nothing but an iterable of number hidden units per layer. All layers are fully connected. Example `[64, 32]` means first layer has 64 nodes and second one has 32. We can also choose an optimizer of our choice."
   ]
  },
  {
   "cell_type": "code",
   "execution_count": 12,
   "metadata": {
    "ExecuteTime": {
     "end_time": "2020-06-20T15:13:26.002875Z",
     "start_time": "2020-06-20T15:13:25.992875Z"
    },
    "colab": {
     "base_uri": "https://localhost:8080/",
     "height": 190
    },
    "colab_type": "code",
    "id": "ihn9il30uwD8",
    "outputId": "0dc94457-a08f-4469-f0b7-43f1bd58e7fb"
   },
   "outputs": [
    {
     "name": "stdout",
     "output_type": "stream",
     "text": [
      "INFO:tensorflow:Using default config.\n",
      "WARNING:tensorflow:Using temporary folder as model directory: C:\\Users\\91828\\AppData\\Local\\Temp\\tmpmjtjd09g\n",
      "INFO:tensorflow:Using config: {'_model_dir': 'C:\\\\Users\\\\91828\\\\AppData\\\\Local\\\\Temp\\\\tmpmjtjd09g', '_tf_random_seed': None, '_save_summary_steps': 100, '_save_checkpoints_steps': None, '_save_checkpoints_secs': 600, '_session_config': allow_soft_placement: true\n",
      "graph_options {\n",
      "  rewrite_options {\n",
      "    meta_optimizer_iterations: ONE\n",
      "  }\n",
      "}\n",
      ", '_keep_checkpoint_max': 5, '_keep_checkpoint_every_n_hours': 10000, '_log_step_count_steps': 100, '_train_distribute': None, '_device_fn': None, '_protocol': None, '_eval_distribute': None, '_experimental_distribute': None, '_experimental_max_worker_delay_secs': None, '_service': None, '_cluster_spec': <tensorflow.python.training.server_lib.ClusterSpec object at 0x000001A25AF40B38>, '_task_type': 'worker', '_task_id': 0, '_global_id_in_cluster': 0, '_master': '', '_evaluation_master': '', '_is_chief': True, '_num_ps_replicas': 0, '_num_worker_replicas': 1}\n"
     ]
    }
   ],
   "source": [
    "est = tf.estimator.DNNClassifier(feature_columns=features, hidden_units=[64,128,32], optimizer='Adam')"
   ]
  },
  {
   "cell_type": "code",
   "execution_count": 13,
   "metadata": {
    "ExecuteTime": {
     "end_time": "2020-06-20T15:13:50.251295Z",
     "start_time": "2020-06-20T15:13:26.903778Z"
    },
    "colab": {
     "base_uri": "https://localhost:8080/",
     "height": 204
    },
    "colab_type": "code",
    "id": "uPc37atjvCgv",
    "outputId": "1a1d110e-8d92-46c1-d235-292ca67716a3"
   },
   "outputs": [
    {
     "name": "stdout",
     "output_type": "stream",
     "text": [
      "accuracy: 0.7689393758773804\n",
      "accuracy_baseline: 0.625\n",
      "auc: 0.8304866552352905\n",
      "auc_precision_recall: 0.7660739421844482\n",
      "average_loss: 0.49331042170524597\n",
      "label/mean: 0.375\n",
      "loss: 0.4820694327354431\n",
      "precision: 0.779411792755127\n",
      "prediction/mean: 0.3607640266418457\n",
      "recall: 0.5353535413742065\n",
      "global_step: 200\n"
     ]
    }
   ],
   "source": [
    "est.train(input_train_fn)\n",
    "result = est.evaluate(input_eval_fn)\n",
    "clear_output()\n",
    "for key in result:\n",
    "    print(f\"{key}: {result[key]}\")"
   ]
  },
  {
   "cell_type": "code",
   "execution_count": 14,
   "metadata": {
    "ExecuteTime": {
     "end_time": "2020-06-20T15:14:02.962215Z",
     "start_time": "2020-06-20T15:14:01.368207Z"
    },
    "colab": {
     "base_uri": "https://localhost:8080/",
     "height": 241
    },
    "colab_type": "code",
    "id": "OmRJ1Y0o3lrm",
    "outputId": "45d42962-e8a6-422e-b6ac-484392ba953e"
   },
   "outputs": [
    {
     "name": "stdout",
     "output_type": "stream",
     "text": [
      "INFO:tensorflow:Calling model_fn.\n",
      "INFO:tensorflow:Done calling model_fn.\n",
      "INFO:tensorflow:Graph was finalized.\n",
      "INFO:tensorflow:Restoring parameters from C:\\Users\\91828\\AppData\\Local\\Temp\\tmpmjtjd09g\\model.ckpt-200\n",
      "INFO:tensorflow:Running local_init_op.\n",
      "INFO:tensorflow:Done running local_init_op.\n"
     ]
    }
   ],
   "source": [
    "pred_dict = list(est.predict(input_eval_fn))\n",
    "probs = pd.Series([pred['probabilities'][1] for pred in pred_dict])"
   ]
  },
  {
   "cell_type": "code",
   "execution_count": 15,
   "metadata": {
    "ExecuteTime": {
     "end_time": "2020-06-20T15:14:03.227302Z",
     "start_time": "2020-06-20T15:14:02.965212Z"
    },
    "colab": {
     "base_uri": "https://localhost:8080/",
     "height": 298
    },
    "colab_type": "code",
    "id": "bEfpSUnH5Ex9",
    "outputId": "a7ab8418-0a71-4450-9032-c92321b2aebf"
   },
   "outputs": [
    {
     "data": {
      "text/plain": [
       "<matplotlib.axes._subplots.AxesSubplot at 0x1a2f8e1c5c0>"
      ]
     },
     "execution_count": 15,
     "metadata": {},
     "output_type": "execute_result"
    },
    {
     "data": {
      "image/png": "[encoded data removed]",
      "text/plain": [
       "<Figure size 432x288 with 1 Axes>"
      ]
     },
     "metadata": {
      "needs_background": "light"
     },
     "output_type": "display_data"
    }
   ],
   "source": [
    "probs.plot(kind='hist', bins=20, title='predicted probabilities')"
   ]
  },
  {
   "cell_type": "code",
   "execution_count": 16,
   "metadata": {
    "ExecuteTime": {
     "end_time": "2020-06-20T15:14:03.451208Z",
     "start_time": "2020-06-20T15:14:03.230207Z"
    },
    "colab": {
     "base_uri": "https://localhost:8080/",
     "height": 312
    },
    "colab_type": "code",
    "id": "Mb6FHh5c5LUZ",
    "outputId": "08501678-0a10-4fc8-95e1-819bf0292b64"
   },
   "outputs": [
    {
     "data": {
      "text/plain": [
       "(0.0, 1.05)"
      ]
     },
     "execution_count": 16,
     "metadata": {},
     "output_type": "execute_result"
    },
    {
     "data": {
      "image/png": "[encoded data removed]",
      "text/plain": [
       "<Figure size 432x288 with 1 Axes>"
      ]
     },
     "metadata": {
      "needs_background": "light"
     },
     "output_type": "display_data"
    }
   ],
   "source": [
    "fpr, tpr, _ = roc_curve(y_eval, probs)\n",
    "plt.plot(fpr, tpr)\n",
    "plt.title('ROC curve')\n",
    "plt.xlabel('false positive rate')\n",
    "plt.ylabel('true positive rate')\n",
    "plt.xlim(0,)\n",
    "plt.ylim(0,)"
   ]
  },
  {
   "cell_type": "code",
   "execution_count": null,
   "metadata": {},
   "outputs": [],
   "source": []
  }
 ],
 "metadata": {
  "colab": {
   "name": "Classification using a Linear Estimator.ipynb",
   "provenance": []
  },
  "kernelspec": {
   "display_name": "Python 3",
   "language": "python",
   "name": "python3"
  },
  "language_info": {
   "codemirror_mode": {
    "name": "ipython",
    "version": 3
   },
   "file_extension": ".py",
   "mimetype": "text/x-python",
   "name": "python",
   "nbconvert_exporter": "python",
   "pygments_lexer": "ipython3",
   "version": "3.7.3"
  },
  "toc": {
   "base_numbering": 1,
   "nav_menu": {},
   "number_sections": true,
   "sideBar": true,
   "skip_h1_title": false,
   "title_cell": "Table of Contents",
   "title_sidebar": "Contents",
   "toc_cell": false,
   "toc_position": {},
   "toc_section_display": true,
   "toc_window_display": false
  }
 },
 "nbformat": 4,
 "nbformat_minor": 1
}
