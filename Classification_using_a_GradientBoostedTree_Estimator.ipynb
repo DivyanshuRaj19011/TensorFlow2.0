{
 "cells": [
  {
   "cell_type": "code",
   "execution_count": 1,
   "metadata": {
    "ExecuteTime": {
     "end_time": "2020-06-20T16:55:22.847200Z",
     "start_time": "2020-06-20T16:55:15.734092Z"
    },
    "colab": {},
    "colab_type": "code",
    "id": "2n6Y4DrxqG8Q"
   },
   "outputs": [],
   "source": [
    "import pandas as pd\n",
    "import numpy as np\n",
    "import matplotlib.pyplot as plt\n",
    "import tensorflow.compat.v2 as tf\n",
    "import tensorflow.compat.v2.feature_column as fc\n",
    "from IPython.display import clear_output\n",
    "from six.moves import urllib\n",
    "from sklearn.metrics import roc_curve\n",
    "\n",
    "clear_output()"
   ]
  },
  {
   "cell_type": "markdown",
   "metadata": {},
   "source": [
    "# Import Data files"
   ]
  },
  {
   "cell_type": "code",
   "execution_count": 2,
   "metadata": {
    "ExecuteTime": {
     "end_time": "2020-06-20T16:55:23.527246Z",
     "start_time": "2020-06-20T16:55:22.849202Z"
    },
    "colab": {
     "base_uri": "https://localhost:8080/",
     "height": 204
    },
    "colab_type": "code",
    "id": "Kd3mM3HwqrZy",
    "outputId": "5c40107f-d6c0-4758-8ea1-5312230ba877"
   },
   "outputs": [
    {
     "data": {
      "text/html": [
       "<div>\n",
       "<style scoped>\n",
       "    .dataframe tbody tr th:only-of-type {\n",
       "        vertical-align: middle;\n",
       "    }\n",
       "\n",
       "    .dataframe tbody tr th {\n",
       "        vertical-align: top;\n",
       "    }\n",
       "\n",
       "    .dataframe thead th {\n",
       "        text-align: right;\n",
       "    }\n",
       "</style>\n",
       "<table border=\"1\" class=\"dataframe\">\n",
       "  <thead>\n",
       "    <tr style=\"text-align: right;\">\n",
       "      <th></th>\n",
       "      <th>sex</th>\n",
       "      <th>age</th>\n",
       "      <th>n_siblings_spouses</th>\n",
       "      <th>parch</th>\n",
       "      <th>fare</th>\n",
       "      <th>class</th>\n",
       "      <th>deck</th>\n",
       "      <th>embark_town</th>\n",
       "      <th>alone</th>\n",
       "    </tr>\n",
       "  </thead>\n",
       "  <tbody>\n",
       "    <tr>\n",
       "      <th>0</th>\n",
       "      <td>male</td>\n",
       "      <td>22.0</td>\n",
       "      <td>1</td>\n",
       "      <td>0</td>\n",
       "      <td>7.2500</td>\n",
       "      <td>Third</td>\n",
       "      <td>unknown</td>\n",
       "      <td>Southampton</td>\n",
       "      <td>n</td>\n",
       "    </tr>\n",
       "    <tr>\n",
       "      <th>1</th>\n",
       "      <td>female</td>\n",
       "      <td>38.0</td>\n",
       "      <td>1</td>\n",
       "      <td>0</td>\n",
       "      <td>71.2833</td>\n",
       "      <td>First</td>\n",
       "      <td>C</td>\n",
       "      <td>Cherbourg</td>\n",
       "      <td>n</td>\n",
       "    </tr>\n",
       "    <tr>\n",
       "      <th>2</th>\n",
       "      <td>female</td>\n",
       "      <td>26.0</td>\n",
       "      <td>0</td>\n",
       "      <td>0</td>\n",
       "      <td>7.9250</td>\n",
       "      <td>Third</td>\n",
       "      <td>unknown</td>\n",
       "      <td>Southampton</td>\n",
       "      <td>y</td>\n",
       "    </tr>\n",
       "    <tr>\n",
       "      <th>3</th>\n",
       "      <td>female</td>\n",
       "      <td>35.0</td>\n",
       "      <td>1</td>\n",
       "      <td>0</td>\n",
       "      <td>53.1000</td>\n",
       "      <td>First</td>\n",
       "      <td>C</td>\n",
       "      <td>Southampton</td>\n",
       "      <td>n</td>\n",
       "    </tr>\n",
       "    <tr>\n",
       "      <th>4</th>\n",
       "      <td>male</td>\n",
       "      <td>28.0</td>\n",
       "      <td>0</td>\n",
       "      <td>0</td>\n",
       "      <td>8.4583</td>\n",
       "      <td>Third</td>\n",
       "      <td>unknown</td>\n",
       "      <td>Queenstown</td>\n",
       "      <td>y</td>\n",
       "    </tr>\n",
       "  </tbody>\n",
       "</table>\n",
       "</div>"
      ],
      "text/plain": [
       "      sex   age  n_siblings_spouses  parch     fare  class     deck  \\\n",
       "0    male  22.0                   1      0   7.2500  Third  unknown   \n",
       "1  female  38.0                   1      0  71.2833  First        C   \n",
       "2  female  26.0                   0      0   7.9250  Third  unknown   \n",
       "3  female  35.0                   1      0  53.1000  First        C   \n",
       "4    male  28.0                   0      0   8.4583  Third  unknown   \n",
       "\n",
       "   embark_town alone  \n",
       "0  Southampton     n  \n",
       "1    Cherbourg     n  \n",
       "2  Southampton     y  \n",
       "3  Southampton     n  \n",
       "4   Queenstown     y  "
      ]
     },
     "execution_count": 2,
     "metadata": {},
     "output_type": "execute_result"
    }
   ],
   "source": [
    "df_train = pd.read_csv(\"https://storage.googleapis.com/tf-datasets/titanic/train.csv\")\n",
    "df_eval = pd.read_csv(\"https://storage.googleapis.com/tf-datasets/titanic/eval.csv\")\n",
    "y_train = df_train.pop(\"survived\")\n",
    "y_eval = df_eval.pop(\"survived\")\n",
    "df_train.head()"
   ]
  },
  {
   "cell_type": "markdown",
   "metadata": {},
   "source": [
    "# Data Preparation\n",
    "\n",
    "A few steps are required before we train a Gradient Boosted Tree Classifier with Tensorflow. We need to prepare features to be included in the model. The estimator needs to have a list of features to train the model. Hence, the column's data requires to be converted into a tensor."
   ]
  },
  {
   "cell_type": "code",
   "execution_count": 3,
   "metadata": {
    "ExecuteTime": {
     "end_time": "2020-06-20T16:55:23.542637Z",
     "start_time": "2020-06-20T16:55:23.529286Z"
    },
    "colab": {},
    "colab_type": "code",
    "id": "MwkWjYV_vCVt"
   },
   "outputs": [],
   "source": [
    "columns = [column for column in df_train.columns]\n",
    "categorical_columns = [column for column in df_train.columns if df_train[column].dtype=='object']\n",
    "numerical_columns = list(set(columns)-set(categorical_columns))"
   ]
  },
  {
   "cell_type": "markdown",
   "metadata": {},
   "source": [
    "We use feature_column.categorical_column_with_vocabulary_list(key, vocabulary_list) when our inputs are in string or integer format, and we have an in-memory vocabulary mapping each value to an integer ID. By default, out-of-vocabulary values are ignored. \n",
    "\n",
    "This is because we cannot feed strings directly to a model. Instead, we must first map them to numeric values. The categorical vocabulary columns provide a way to represent strings as a one-hot vector. The vocabulary can be passed as a list using categorical_column_with_vocabulary_list, or loaded from a file using categorical_column_with_vocabulary_file.\n",
    "\n",
    "For input dictionary features, features[key] is either Tensor or SparseTensor. If Tensor, missing values can be represented by -1 for int and '' for string, which will be dropped by this feature column.\n",
    "\n",
    "Lastly, the list features will have one-hot-encoded categorical variables. To do this conversion, we use feature_column.indicator_column() method."
   ]
  },
  {
   "cell_type": "code",
   "execution_count": 4,
   "metadata": {
    "ExecuteTime": {
     "end_time": "2020-06-20T16:55:23.558539Z",
     "start_time": "2020-06-20T16:55:23.544514Z"
    },
    "colab": {},
    "colab_type": "code",
    "id": "A0smbbR7vCYr"
   },
   "outputs": [],
   "source": [
    "features = []\n",
    "for column in columns:\n",
    "    if column in categorical_columns:\n",
    "        vocabulary = df_train[column].unique()\n",
    "        features.append(fc.indicator_column(fc.categorical_column_with_vocabulary_list(column, vocabulary)))\n",
    "    else:\n",
    "        features.append(fc.numeric_column(column, dtype=tf.float32))"
   ]
  },
  {
   "cell_type": "markdown",
   "metadata": {},
   "source": [
    "We need a function that constructs the input data for evaluation. As per the TensorFlow2.0 api docs,  the evaluate function should construct and return one of the following: * A tf.data.Dataset object: Outputs of Dataset object must be a tuple (features, labels) with same constraints as below. * A tuple (features, labels): Where features is a tf.Tensor or a dictionary of string feature name to Tensor and labels is a Tensor or a dictionary of string label name to Tensor. Both features and labels are consumed by model_fn. They should satisfy the expectation of model_fn from inputs.\n",
    "\n",
    "Now, we will wrap the dataframes with tf.data. \n",
    "\n",
    "Below is a utility function that creates a tf.data.Dataset object from a Pandas Dataframe. It creates tensor slices of tuples of (features, labels) as required. This will enable us to use feature columns as a bridge to map from the columns in the Pandas dataframe to features used to train the model. If we were working with a very large CSV file (so large that it does not fit into memory), we would use tf.data to read it from disk directly. "
   ]
  },
  {
   "cell_type": "code",
   "execution_count": 5,
   "metadata": {
    "ExecuteTime": {
     "end_time": "2020-06-20T16:55:23.573556Z",
     "start_time": "2020-06-20T16:55:23.559439Z"
    },
    "colab": {},
    "colab_type": "code",
    "id": "raAkzd9xvCbb"
   },
   "outputs": [],
   "source": [
    "# A utility method to create a tf.data dataset from a Pandas Dataframe\n",
    "\n",
    "def transform_fn(df, label, epochs=10, shuffle=True, batch_size=32):\n",
    "    def transform():\n",
    "        batch_data = tf.data.Dataset.from_tensor_slices((dict(df), label))\n",
    "        if shuffle:\n",
    "            batch_data = batch_data.shuffle(123)\n",
    "        batch_data = batch_data.batch(batch_size).repeat(epochs)\n",
    "        return batch_data\n",
    "    return transform"
   ]
  },
  {
   "cell_type": "code",
   "execution_count": 6,
   "metadata": {
    "ExecuteTime": {
     "end_time": "2020-06-20T16:55:23.589562Z",
     "start_time": "2020-06-20T16:55:23.575564Z"
    },
    "colab": {},
    "colab_type": "code",
    "id": "2d3a05WXvCeA"
   },
   "outputs": [],
   "source": [
    "input_train_fn = transform_fn(df_train, y_train)\n",
    "input_eval_fn = transform_fn(df_eval, y_eval, epochs=1, shuffle=False)"
   ]
  },
  {
   "cell_type": "markdown",
   "metadata": {},
   "source": [
    "# Model creation"
   ]
  },
  {
   "cell_type": "markdown",
   "metadata": {},
   "source": [
    "Now, we train a Gradient Boosted Tree model to classify instances. feature_columns requires an iterable containing all the feature columns used by the model. It needs the following arguments:\n",
    "\n",
    "(a) n_batches_per_layer: the number of batches to collect statistics per layer. The total number of batches is total number of data divided by batch size, (b) n_trees: number trees to be created, and (c) max_depth: maximum depth of the tree to grow."
   ]
  },
  {
   "cell_type": "code",
   "execution_count": 20,
   "metadata": {
    "ExecuteTime": {
     "end_time": "2020-06-20T17:03:22.268442Z",
     "start_time": "2020-06-20T17:03:22.250415Z"
    },
    "colab": {
     "base_uri": "https://localhost:8080/",
     "height": 190
    },
    "colab_type": "code",
    "id": "ihn9il30uwD8",
    "outputId": "0dc94457-a08f-4469-f0b7-43f1bd58e7fb"
   },
   "outputs": [
    {
     "name": "stdout",
     "output_type": "stream",
     "text": [
      "INFO:tensorflow:Using default config.\n",
      "WARNING:tensorflow:Using temporary folder as model directory: C:\\Users\\91828\\AppData\\Local\\Temp\\tmp989jm1k4\n",
      "INFO:tensorflow:Using config: {'_model_dir': 'C:\\\\Users\\\\91828\\\\AppData\\\\Local\\\\Temp\\\\tmp989jm1k4', '_tf_random_seed': None, '_save_summary_steps': 100, '_save_checkpoints_steps': None, '_save_checkpoints_secs': 600, '_session_config': allow_soft_placement: true\n",
      "graph_options {\n",
      "  rewrite_options {\n",
      "    meta_optimizer_iterations: ONE\n",
      "  }\n",
      "}\n",
      ", '_keep_checkpoint_max': 5, '_keep_checkpoint_every_n_hours': 10000, '_log_step_count_steps': 100, '_train_distribute': None, '_device_fn': None, '_protocol': None, '_eval_distribute': None, '_experimental_distribute': None, '_experimental_max_worker_delay_secs': None, '_service': None, '_cluster_spec': <tensorflow.python.training.server_lib.ClusterSpec object at 0x000001F778CB8240>, '_task_type': 'worker', '_task_id': 0, '_global_id_in_cluster': 0, '_master': '', '_evaluation_master': '', '_is_chief': True, '_num_ps_replicas': 0, '_num_worker_replicas': 1}\n"
     ]
    }
   ],
   "source": [
    "est = tf.estimator.BoostedTreesClassifier(feature_columns=features, n_trees=70, max_depth=5, n_batches_per_layer=30)"
   ]
  },
  {
   "cell_type": "code",
   "execution_count": 21,
   "metadata": {
    "ExecuteTime": {
     "end_time": "2020-06-20T17:03:32.491288Z",
     "start_time": "2020-06-20T17:03:23.721527Z"
    },
    "colab": {
     "base_uri": "https://localhost:8080/",
     "height": 204
    },
    "colab_type": "code",
    "id": "uPc37atjvCgv",
    "outputId": "1a1d110e-8d92-46c1-d235-292ca67716a3"
   },
   "outputs": [
    {
     "name": "stdout",
     "output_type": "stream",
     "text": [
      "accuracy: 0.810606062412262\n",
      "accuracy_baseline: 0.625\n",
      "auc: 0.8399755358695984\n",
      "auc_precision_recall: 0.8177907466888428\n",
      "average_loss: 0.5483906269073486\n",
      "label/mean: 0.375\n",
      "loss: 0.5471654534339905\n",
      "precision: 0.7634408473968506\n",
      "prediction/mean: 0.45756348967552185\n",
      "recall: 0.7171717286109924\n",
      "global_step: 170\n"
     ]
    }
   ],
   "source": [
    "est.train(input_train_fn)\n",
    "result = est.evaluate(input_eval_fn)\n",
    "clear_output()\n",
    "for key in result:\n",
    "    print(f\"{key}: {result[key]}\")"
   ]
  },
  {
   "cell_type": "code",
   "execution_count": 22,
   "metadata": {
    "ExecuteTime": {
     "end_time": "2020-06-20T17:03:41.380735Z",
     "start_time": "2020-06-20T17:03:40.906089Z"
    },
    "colab": {
     "base_uri": "https://localhost:8080/",
     "height": 241
    },
    "colab_type": "code",
    "id": "OmRJ1Y0o3lrm",
    "outputId": "45d42962-e8a6-422e-b6ac-484392ba953e"
   },
   "outputs": [
    {
     "name": "stdout",
     "output_type": "stream",
     "text": [
      "INFO:tensorflow:Calling model_fn.\n",
      "INFO:tensorflow:Done calling model_fn.\n",
      "INFO:tensorflow:Graph was finalized.\n",
      "INFO:tensorflow:Restoring parameters from C:\\Users\\91828\\AppData\\Local\\Temp\\tmp989jm1k4\\model.ckpt-170\n",
      "INFO:tensorflow:Running local_init_op.\n",
      "INFO:tensorflow:Done running local_init_op.\n"
     ]
    }
   ],
   "source": [
    "pred_dict = list(est.predict(input_eval_fn))\n",
    "probs = pd.Series([pred['probabilities'][1] for pred in pred_dict])"
   ]
  },
  {
   "cell_type": "code",
   "execution_count": 23,
   "metadata": {
    "ExecuteTime": {
     "end_time": "2020-06-20T17:03:42.237983Z",
     "start_time": "2020-06-20T17:03:42.045919Z"
    },
    "colab": {
     "base_uri": "https://localhost:8080/",
     "height": 298
    },
    "colab_type": "code",
    "id": "bEfpSUnH5Ex9",
    "outputId": "a7ab8418-0a71-4450-9032-c92321b2aebf"
   },
   "outputs": [
    {
     "data": {
      "text/plain": [
       "<matplotlib.axes._subplots.AxesSubplot at 0x1f77983a860>"
      ]
     },
     "execution_count": 23,
     "metadata": {},
     "output_type": "execute_result"
    },
    {
     "data": {
      "image/png": "[encoded data removed]",
      "text/plain": [
       "<Figure size 432x288 with 1 Axes>"
      ]
     },
     "metadata": {
      "needs_background": "light"
     },
     "output_type": "display_data"
    }
   ],
   "source": [
    "probs.plot(kind='hist', bins=20, title='predicted probabilities')"
   ]
  },
  {
   "cell_type": "code",
   "execution_count": 24,
   "metadata": {
    "ExecuteTime": {
     "end_time": "2020-06-20T17:03:44.918940Z",
     "start_time": "2020-06-20T17:03:44.781812Z"
    },
    "colab": {
     "base_uri": "https://localhost:8080/",
     "height": 312
    },
    "colab_type": "code",
    "id": "Mb6FHh5c5LUZ",
    "outputId": "08501678-0a10-4fc8-95e1-819bf0292b64"
   },
   "outputs": [
    {
     "data": {
      "text/plain": [
       "(0.0, 1.05)"
      ]
     },
     "execution_count": 24,
     "metadata": {},
     "output_type": "execute_result"
    },
    {
     "data": {
      "image/png": "[encoded data removed]",
      "text/plain": [
       "<Figure size 432x288 with 1 Axes>"
      ]
     },
     "metadata": {
      "needs_background": "light"
     },
     "output_type": "display_data"
    }
   ],
   "source": [
    "fpr, tpr, _ = roc_curve(y_eval, probs)\n",
    "plt.plot(fpr, tpr)\n",
    "plt.title('ROC curve')\n",
    "plt.xlabel('false positive rate')\n",
    "plt.ylabel('true positive rate')\n",
    "plt.xlim(0,)\n",
    "plt.ylim(0,)"
   ]
  },
  {
   "cell_type": "markdown",
   "metadata": {},
   "source": [
    "# Feature Importance\n",
    "\n",
    "Additionally, we might want to understand the model as a whole. We will compute and use:\n",
    "\n",
    "1. Gain-based feature importances using est.experimental_feature_importances\n",
    "2. Permutation importances\n",
    "\n",
    "Gain-based feature importances measure the loss change when splitting on a particular feature, while permutation feature importances are computed by evaluating model performance on the evaluation set by shuffling each feature one-by-one and attributing the change in model performance to the shuffled feature.\n",
    "\n",
    "In general, permutation feature importance are preferred to gain-based feature importance, though both methods can be unreliable in situations where potential predictor variables vary in their scale of measurement or their number of categories and when features are correlated."
   ]
  },
  {
   "cell_type": "markdown",
   "metadata": {},
   "source": [
    "## Gain-based Feature Importance\n",
    "\n",
    "Gain-based feature importances are built into the TensorFlow Boosted Trees estimators using est.experimental_feature_importances."
   ]
  },
  {
   "cell_type": "code",
   "execution_count": 25,
   "metadata": {
    "ExecuteTime": {
     "end_time": "2020-06-20T17:03:46.578495Z",
     "start_time": "2020-06-20T17:03:46.563495Z"
    }
   },
   "outputs": [],
   "source": [
    "import seaborn as sns\n",
    "sns_colors = sns.color_palette('colorblind')"
   ]
  },
  {
   "cell_type": "code",
   "execution_count": 27,
   "metadata": {
    "ExecuteTime": {
     "end_time": "2020-06-20T17:08:47.783240Z",
     "start_time": "2020-06-20T17:08:47.626203Z"
    }
   },
   "outputs": [
    {
     "data": {
      "image/png": "[encoded data removed]",
      "text/plain": [
       "<Figure size 864x648 with 1 Axes>"
      ]
     },
     "metadata": {
      "needs_background": "light"
     },
     "output_type": "display_data"
    }
   ],
   "source": [
    "importances = est.experimental_feature_importances(normalize=True)\n",
    "df_imp = pd.Series(importances)\n",
    "\n",
    "# Visualize importances.\n",
    "N = 9\n",
    "ax = (df_imp.iloc[0:N][::-1].plot(kind='barh', color=sns_colors[0], title='Gain-based Feature importances', figsize=(12, 9)))\n",
    "ax.grid(False, axis='y')"
   ]
  },
  {
   "cell_type": "markdown",
   "metadata": {},
   "source": [
    "## Permutation Feature Importance\n",
    "\n",
    "We shuffle values column by column and observe effect on eval set."
   ]
  },
  {
   "cell_type": "code",
   "execution_count": 35,
   "metadata": {
    "ExecuteTime": {
     "end_time": "2020-06-20T17:16:27.255777Z",
     "start_time": "2020-06-20T17:16:27.235781Z"
    }
   },
   "outputs": [],
   "source": [
    "def permutation_importances(est, X_eval, y_eval, metric, features):\n",
    "    baseline = metric(est, X_eval, y_eval)\n",
    "    imp = []\n",
    "    for col in features:\n",
    "        save = X_eval[col].copy()\n",
    "        X_eval[col] = np.random.permutation(X_eval[col])\n",
    "        m = metric(est, X_eval, y_eval)\n",
    "        X_eval[col] = save\n",
    "        imp.append(baseline - m)\n",
    "    return np.array(imp)\n",
    "\n",
    "def accuracy_metric(est, X, y):\n",
    "    eval_input_fn = transform_fn(X, y, shuffle=False, epochs=1)\n",
    "    return est.evaluate(input_fn=input_eval_fn)['accuracy']"
   ]
  },
  {
   "cell_type": "code",
   "execution_count": 37,
   "metadata": {
    "ExecuteTime": {
     "end_time": "2020-06-20T17:18:27.006489Z",
     "start_time": "2020-06-20T17:18:11.607491Z"
    }
   },
   "outputs": [
    {
     "data": {
      "image/png": "[encoded data removed]",
      "text/plain": [
       "<Figure size 720x432 with 1 Axes>"
      ]
     },
     "metadata": {
      "needs_background": "light"
     },
     "output_type": "display_data"
    }
   ],
   "source": [
    "importances = permutation_importances(est, df_eval, y_eval, accuracy_metric, columns)\n",
    "df_imp = pd.Series(importances, index=features)\n",
    "\n",
    "sorted_ix = df_imp.abs().sort_values().index\n",
    "clear_output()\n",
    "ax = df_imp[sorted_ix][-5:].plot(kind='barh', color=sns_colors[2], figsize=(10, 6))\n",
    "ax.grid(False, axis='y')\n",
    "ax.set_title('Permutation feature importance')\n",
    "plt.show()"
   ]
  },
  {
   "cell_type": "code",
   "execution_count": null,
   "metadata": {},
   "outputs": [],
   "source": []
  }
 ],
 "metadata": {
  "colab": {
   "name": "Classification using a Linear Estimator.ipynb",
   "provenance": []
  },
  "kernelspec": {
   "display_name": "Python 3",
   "language": "python",
   "name": "python3"
  },
  "language_info": {
   "codemirror_mode": {
    "name": "ipython",
    "version": 3
   },
   "file_extension": ".py",
   "mimetype": "text/x-python",
   "name": "python",
   "nbconvert_exporter": "python",
   "pygments_lexer": "ipython3",
   "version": "3.7.3"
  },
  "toc": {
   "base_numbering": 1,
   "nav_menu": {},
   "number_sections": true,
   "sideBar": true,
   "skip_h1_title": false,
   "title_cell": "Table of Contents",
   "title_sidebar": "Contents",
   "toc_cell": false,
   "toc_position": {},
   "toc_section_display": true,
   "toc_window_display": false
  }
 },
 "nbformat": 4,
 "nbformat_minor": 1
}
